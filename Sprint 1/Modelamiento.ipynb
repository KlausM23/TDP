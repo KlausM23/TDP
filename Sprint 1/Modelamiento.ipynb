{
 "cells": [
  {
   "cell_type": "code",
   "execution_count": 15,
   "id": "40415d35-9236-4c7a-a113-7424164ba496",
   "metadata": {},
   "outputs": [],
   "source": [
    "import pandas as pd\n",
    "import sklearn.metrics \n",
    "from sklearn.metrics import accuracy_score "
   ]
  },
  {
   "cell_type": "markdown",
   "id": "1d8df908-c630-4677-a9bd-f981813d9cc8",
   "metadata": {},
   "source": [
    "### Prediccion\n",
    "\n",
    "Predecir:\n",
    "\n",
    " - Modalidad: vendría a ser categoria\n",
    "\n",
    "En base a:\n",
    " - X: latitud \n",
    " - Y: longitud"
   ]
  },
  {
   "cell_type": "code",
   "execution_count": 16,
   "id": "d51094f3-d181-477d-b658-6f9a6ec518b9",
   "metadata": {},
   "outputs": [
    {
     "data": {
      "text/html": [
       "<div>\n",
       "<style scoped>\n",
       "    .dataframe tbody tr th:only-of-type {\n",
       "        vertical-align: middle;\n",
       "    }\n",
       "\n",
       "    .dataframe tbody tr th {\n",
       "        vertical-align: top;\n",
       "    }\n",
       "\n",
       "    .dataframe thead th {\n",
       "        text-align: right;\n",
       "    }\n",
       "</style>\n",
       "<table border=\"1\" class=\"dataframe\">\n",
       "  <thead>\n",
       "    <tr style=\"text-align: right;\">\n",
       "      <th></th>\n",
       "      <th>layerLALAId</th>\n",
       "      <th>layerName</th>\n",
       "      <th>displayFieldName</th>\n",
       "      <th>value</th>\n",
       "      <th>OBJECTID</th>\n",
       "      <th>GENERICO</th>\n",
       "      <th>ESPECIFICO</th>\n",
       "      <th>MODALIDAD</th>\n",
       "      <th>X</th>\n",
       "      <th>Y</th>\n",
       "      <th>...</th>\n",
       "      <th>ID_ESPECIFICO</th>\n",
       "      <th>CAPITAL</th>\n",
       "      <th>CCDD</th>\n",
       "      <th>CCPP</th>\n",
       "      <th>CCDI</th>\n",
       "      <th>NOMBDEP</th>\n",
       "      <th>NOMBPROV</th>\n",
       "      <th>NOMBDIST</th>\n",
       "      <th>UBIGEO</th>\n",
       "      <th>OBJECTID_1</th>\n",
       "    </tr>\n",
       "  </thead>\n",
       "  <tbody>\n",
       "    <tr>\n",
       "      <th>0</th>\n",
       "      <td>110</td>\n",
       "      <td>Hurto</td>\n",
       "      <td>UBIGEO_HECHO</td>\n",
       "      <td>150117</td>\n",
       "      <td>284505</td>\n",
       "      <td>DELITOS CONTRA EL PATRIMONIO</td>\n",
       "      <td>HURTO</td>\n",
       "      <td>HURTO</td>\n",
       "      <td>-77.077480</td>\n",
       "      <td>-11.934415</td>\n",
       "      <td>...</td>\n",
       "      <td>1049</td>\n",
       "      <td>LOS OLIVOS</td>\n",
       "      <td>15</td>\n",
       "      <td>1</td>\n",
       "      <td>17</td>\n",
       "      <td>LIMA METROPOLITANA 1/</td>\n",
       "      <td>LIMA</td>\n",
       "      <td>LOS OLIVOS</td>\n",
       "      <td>150117.0</td>\n",
       "      <td>543701.0</td>\n",
       "    </tr>\n",
       "    <tr>\n",
       "      <th>1</th>\n",
       "      <td>110</td>\n",
       "      <td>Hurto</td>\n",
       "      <td>UBIGEO_HECHO</td>\n",
       "      <td>150117</td>\n",
       "      <td>112844</td>\n",
       "      <td>DELITOS CONTRA EL PATRIMONIO</td>\n",
       "      <td>HURTO</td>\n",
       "      <td>HURTO</td>\n",
       "      <td>-77.073126</td>\n",
       "      <td>-11.934646</td>\n",
       "      <td>...</td>\n",
       "      <td>1049</td>\n",
       "      <td>LOS OLIVOS</td>\n",
       "      <td>15</td>\n",
       "      <td>1</td>\n",
       "      <td>17</td>\n",
       "      <td>LIMA METROPOLITANA 1/</td>\n",
       "      <td>LIMA</td>\n",
       "      <td>LOS OLIVOS</td>\n",
       "      <td>150117.0</td>\n",
       "      <td>225077.0</td>\n",
       "    </tr>\n",
       "  </tbody>\n",
       "</table>\n",
       "<p>2 rows × 26 columns</p>\n",
       "</div>"
      ],
      "text/plain": [
       "   layerLALAId layerName displayFieldName   value  OBJECTID  \\\n",
       "0          110     Hurto     UBIGEO_HECHO  150117    284505   \n",
       "1          110     Hurto     UBIGEO_HECHO  150117    112844   \n",
       "\n",
       "                       GENERICO ESPECIFICO MODALIDAD          X          Y  \\\n",
       "0  DELITOS CONTRA EL PATRIMONIO      HURTO     HURTO -77.077480 -11.934415   \n",
       "1  DELITOS CONTRA EL PATRIMONIO      HURTO     HURTO -77.073126 -11.934646   \n",
       "\n",
       "   ...  ID_ESPECIFICO     CAPITAL  CCDD  CCPP CCDI                NOMBDEP  \\\n",
       "0  ...           1049  LOS OLIVOS    15     1   17  LIMA METROPOLITANA 1/   \n",
       "1  ...           1049  LOS OLIVOS    15     1   17  LIMA METROPOLITANA 1/   \n",
       "\n",
       "   NOMBPROV    NOMBDIST    UBIGEO  OBJECTID_1  \n",
       "0      LIMA  LOS OLIVOS  150117.0    543701.0  \n",
       "1      LIMA  LOS OLIVOS  150117.0    225077.0  \n",
       "\n",
       "[2 rows x 26 columns]"
      ]
     },
     "execution_count": 16,
     "metadata": {},
     "output_type": "execute_result"
    }
   ],
   "source": [
    "df = pd.read_excel('./../Dataset/DATASET.xlsx')\n",
    "\n",
    "df.iloc[0:2, :]"
   ]
  },
  {
   "cell_type": "code",
   "execution_count": 17,
   "id": "7e8a1707-439d-40cd-aabb-ff7518fd6a95",
   "metadata": {},
   "outputs": [
    {
     "data": {
      "text/html": [
       "<div>\n",
       "<style scoped>\n",
       "    .dataframe tbody tr th:only-of-type {\n",
       "        vertical-align: middle;\n",
       "    }\n",
       "\n",
       "    .dataframe tbody tr th {\n",
       "        vertical-align: top;\n",
       "    }\n",
       "\n",
       "    .dataframe thead th {\n",
       "        text-align: right;\n",
       "    }\n",
       "</style>\n",
       "<table border=\"1\" class=\"dataframe\">\n",
       "  <thead>\n",
       "    <tr style=\"text-align: right;\">\n",
       "      <th></th>\n",
       "      <th>Modalidades</th>\n",
       "    </tr>\n",
       "  </thead>\n",
       "  <tbody>\n",
       "    <tr>\n",
       "      <th>0</th>\n",
       "      <td>HURTO</td>\n",
       "    </tr>\n",
       "    <tr>\n",
       "      <th>1</th>\n",
       "      <td>HURTO AGRAVADO</td>\n",
       "    </tr>\n",
       "    <tr>\n",
       "      <th>2</th>\n",
       "      <td>ROBO</td>\n",
       "    </tr>\n",
       "    <tr>\n",
       "      <th>3</th>\n",
       "      <td>ROBO AGRAVADO</td>\n",
       "    </tr>\n",
       "    <tr>\n",
       "      <th>4</th>\n",
       "      <td>HOMICIDIO CALIFICADO - ASESINATO</td>\n",
       "    </tr>\n",
       "    <tr>\n",
       "      <th>5</th>\n",
       "      <td>MICROCOMERCIALIZACION DE DROGAS</td>\n",
       "    </tr>\n",
       "  </tbody>\n",
       "</table>\n",
       "</div>"
      ],
      "text/plain": [
       "                        Modalidades\n",
       "0                             HURTO\n",
       "1                    HURTO AGRAVADO\n",
       "2                              ROBO\n",
       "3                     ROBO AGRAVADO\n",
       "4  HOMICIDIO CALIFICADO - ASESINATO\n",
       "5   MICROCOMERCIALIZACION DE DROGAS"
      ]
     },
     "execution_count": 17,
     "metadata": {},
     "output_type": "execute_result"
    }
   ],
   "source": [
    "pd.DataFrame(df['MODALIDAD'].unique()).rename(columns={0:'Modalidades'})"
   ]
  },
  {
   "cell_type": "markdown",
   "id": "1539c739-7a3c-4361-9ecc-8021031178a0",
   "metadata": {},
   "source": [
    "## Modelo predictivo de Naive Bayes Classifier"
   ]
  },
  {
   "cell_type": "code",
   "execution_count": null,
   "id": "45fa672d-fa3b-40fe-bcf2-f302a493587f",
   "metadata": {},
   "outputs": [],
   "source": []
  },
  {
   "cell_type": "code",
   "execution_count": null,
   "id": "455e5963-7fbc-4d7a-89ca-777d5ef0f95d",
   "metadata": {},
   "outputs": [],
   "source": []
  },
  {
   "cell_type": "markdown",
   "id": "0d3cfe10-7436-4eb5-a250-2a72c1ce0036",
   "metadata": {},
   "source": [
    "## Modelo predictivo de --"
   ]
  },
  {
   "cell_type": "code",
   "execution_count": null,
   "id": "bb53a510-b3c6-4719-99ed-8e328b522f66",
   "metadata": {},
   "outputs": [],
   "source": []
  },
  {
   "cell_type": "code",
   "execution_count": null,
   "id": "3d892e08-a1f2-4686-a1a8-ff1111a645e3",
   "metadata": {},
   "outputs": [],
   "source": []
  }
 ],
 "metadata": {
  "kernelspec": {
   "display_name": "Python 3 (ipykernel)",
   "language": "python",
   "name": "python3"
  },
  "language_info": {
   "codemirror_mode": {
    "name": "ipython",
    "version": 3
   },
   "file_extension": ".py",
   "mimetype": "text/x-python",
   "name": "python",
   "nbconvert_exporter": "python",
   "pygments_lexer": "ipython3",
   "version": "3.9.7"
  }
 },
 "nbformat": 4,
 "nbformat_minor": 5
}
