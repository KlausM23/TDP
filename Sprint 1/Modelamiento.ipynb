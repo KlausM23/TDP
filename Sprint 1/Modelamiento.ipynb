{
 "cells": [
  {
   "cell_type": "code",
   "execution_count": 3,
   "id": "40415d35-9236-4c7a-a113-7424164ba496",
   "metadata": {},
   "outputs": [],
   "source": [
    "import pandas as pd\n",
    "import sklearn.metrics \n",
    "from sklearn.metrics import accuracy_score \n",
    "from sklearn import metrics"
   ]
  },
  {
   "cell_type": "markdown",
   "id": "1d8df908-c630-4677-a9bd-f981813d9cc8",
   "metadata": {},
   "source": [
    "### Prediccion\n",
    "\n",
    "Predecir:\n",
    "\n",
    " - Modalidad: vendría a ser categoria\n",
    "\n",
    "En base a:\n",
    " - X: latitud \n",
    " - Y: longitud"
   ]
  },
  {
   "cell_type": "code",
   "execution_count": 16,
   "id": "d51094f3-d181-477d-b658-6f9a6ec518b9",
   "metadata": {},
   "outputs": [
    {
     "data": {
      "text/html": [
       "<div>\n",
       "<style scoped>\n",
       "    .dataframe tbody tr th:only-of-type {\n",
       "        vertical-align: middle;\n",
       "    }\n",
       "\n",
       "    .dataframe tbody tr th {\n",
       "        vertical-align: top;\n",
       "    }\n",
       "\n",
       "    .dataframe thead th {\n",
       "        text-align: right;\n",
       "    }\n",
       "</style>\n",
       "<table border=\"1\" class=\"dataframe\">\n",
       "  <thead>\n",
       "    <tr style=\"text-align: right;\">\n",
       "      <th></th>\n",
       "      <th>layerLALAId</th>\n",
       "      <th>layerName</th>\n",
       "      <th>displayFieldName</th>\n",
       "      <th>value</th>\n",
       "      <th>OBJECTID</th>\n",
       "      <th>GENERICO</th>\n",
       "      <th>ESPECIFICO</th>\n",
       "      <th>MODALIDAD</th>\n",
       "      <th>X</th>\n",
       "      <th>Y</th>\n",
       "      <th>...</th>\n",
       "      <th>ID_ESPECIFICO</th>\n",
       "      <th>CAPITAL</th>\n",
       "      <th>CCDD</th>\n",
       "      <th>CCPP</th>\n",
       "      <th>CCDI</th>\n",
       "      <th>NOMBDEP</th>\n",
       "      <th>NOMBPROV</th>\n",
       "      <th>NOMBDIST</th>\n",
       "      <th>UBIGEO</th>\n",
       "      <th>OBJECTID_1</th>\n",
       "    </tr>\n",
       "  </thead>\n",
       "  <tbody>\n",
       "    <tr>\n",
       "      <th>0</th>\n",
       "      <td>110</td>\n",
       "      <td>Hurto</td>\n",
       "      <td>UBIGEO_HECHO</td>\n",
       "      <td>150117</td>\n",
       "      <td>284505</td>\n",
       "      <td>DELITOS CONTRA EL PATRIMONIO</td>\n",
       "      <td>HURTO</td>\n",
       "      <td>HURTO</td>\n",
       "      <td>-77.077480</td>\n",
       "      <td>-11.934415</td>\n",
       "      <td>...</td>\n",
       "      <td>1049</td>\n",
       "      <td>LOS OLIVOS</td>\n",
       "      <td>15</td>\n",
       "      <td>1</td>\n",
       "      <td>17</td>\n",
       "      <td>LIMA METROPOLITANA 1/</td>\n",
       "      <td>LIMA</td>\n",
       "      <td>LOS OLIVOS</td>\n",
       "      <td>150117.0</td>\n",
       "      <td>543701.0</td>\n",
       "    </tr>\n",
       "    <tr>\n",
       "      <th>1</th>\n",
       "      <td>110</td>\n",
       "      <td>Hurto</td>\n",
       "      <td>UBIGEO_HECHO</td>\n",
       "      <td>150117</td>\n",
       "      <td>112844</td>\n",
       "      <td>DELITOS CONTRA EL PATRIMONIO</td>\n",
       "      <td>HURTO</td>\n",
       "      <td>HURTO</td>\n",
       "      <td>-77.073126</td>\n",
       "      <td>-11.934646</td>\n",
       "      <td>...</td>\n",
       "      <td>1049</td>\n",
       "      <td>LOS OLIVOS</td>\n",
       "      <td>15</td>\n",
       "      <td>1</td>\n",
       "      <td>17</td>\n",
       "      <td>LIMA METROPOLITANA 1/</td>\n",
       "      <td>LIMA</td>\n",
       "      <td>LOS OLIVOS</td>\n",
       "      <td>150117.0</td>\n",
       "      <td>225077.0</td>\n",
       "    </tr>\n",
       "  </tbody>\n",
       "</table>\n",
       "<p>2 rows × 26 columns</p>\n",
       "</div>"
      ],
      "text/plain": [
       "   layerLALAId layerName displayFieldName   value  OBJECTID  \\\n",
       "0          110     Hurto     UBIGEO_HECHO  150117    284505   \n",
       "1          110     Hurto     UBIGEO_HECHO  150117    112844   \n",
       "\n",
       "                       GENERICO ESPECIFICO MODALIDAD          X          Y  \\\n",
       "0  DELITOS CONTRA EL PATRIMONIO      HURTO     HURTO -77.077480 -11.934415   \n",
       "1  DELITOS CONTRA EL PATRIMONIO      HURTO     HURTO -77.073126 -11.934646   \n",
       "\n",
       "   ...  ID_ESPECIFICO     CAPITAL  CCDD  CCPP CCDI                NOMBDEP  \\\n",
       "0  ...           1049  LOS OLIVOS    15     1   17  LIMA METROPOLITANA 1/   \n",
       "1  ...           1049  LOS OLIVOS    15     1   17  LIMA METROPOLITANA 1/   \n",
       "\n",
       "   NOMBPROV    NOMBDIST    UBIGEO  OBJECTID_1  \n",
       "0      LIMA  LOS OLIVOS  150117.0    543701.0  \n",
       "1      LIMA  LOS OLIVOS  150117.0    225077.0  \n",
       "\n",
       "[2 rows x 26 columns]"
      ]
     },
     "execution_count": 16,
     "metadata": {},
     "output_type": "execute_result"
    }
   ],
   "source": [
    "df = pd.read_excel('./../Dataset/DATASET.xlsx')\n",
    "\n",
    "df.iloc[0:2, :]"
   ]
  },
  {
   "cell_type": "code",
   "execution_count": 10,
   "id": "7e8a1707-439d-40cd-aabb-ff7518fd6a95",
   "metadata": {},
   "outputs": [
    {
     "data": {
      "text/html": [
       "<div>\n",
       "<style scoped>\n",
       "    .dataframe tbody tr th:only-of-type {\n",
       "        vertical-align: middle;\n",
       "    }\n",
       "\n",
       "    .dataframe tbody tr th {\n",
       "        vertical-align: top;\n",
       "    }\n",
       "\n",
       "    .dataframe thead th {\n",
       "        text-align: right;\n",
       "    }\n",
       "</style>\n",
       "<table border=\"1\" class=\"dataframe\">\n",
       "  <thead>\n",
       "    <tr style=\"text-align: right;\">\n",
       "      <th></th>\n",
       "      <th>Modalidades</th>\n",
       "    </tr>\n",
       "  </thead>\n",
       "  <tbody>\n",
       "    <tr>\n",
       "      <th>0</th>\n",
       "      <td>HURTO</td>\n",
       "    </tr>\n",
       "    <tr>\n",
       "      <th>1</th>\n",
       "      <td>HURTO AGRAVADO</td>\n",
       "    </tr>\n",
       "    <tr>\n",
       "      <th>2</th>\n",
       "      <td>ROBO</td>\n",
       "    </tr>\n",
       "    <tr>\n",
       "      <th>3</th>\n",
       "      <td>ROBO AGRAVADO</td>\n",
       "    </tr>\n",
       "    <tr>\n",
       "      <th>4</th>\n",
       "      <td>HOMICIDIO CALIFICADO - ASESINATO</td>\n",
       "    </tr>\n",
       "    <tr>\n",
       "      <th>5</th>\n",
       "      <td>MICROCOMERCIALIZACION DE DROGAS</td>\n",
       "    </tr>\n",
       "  </tbody>\n",
       "</table>\n",
       "</div>"
      ],
      "text/plain": [
       "                        Modalidades\n",
       "0                             HURTO\n",
       "1                    HURTO AGRAVADO\n",
       "2                              ROBO\n",
       "3                     ROBO AGRAVADO\n",
       "4  HOMICIDIO CALIFICADO - ASESINATO\n",
       "5   MICROCOMERCIALIZACION DE DROGAS"
      ]
     },
     "execution_count": 10,
     "metadata": {},
     "output_type": "execute_result"
    }
   ],
   "source": [
    "pd.DataFrame(df['MODALIDAD'].unique()).rename(columns={0:'Modalidades'})"
   ]
  },
  {
   "cell_type": "markdown",
   "id": "1539c739-7a3c-4361-9ecc-8021031178a0",
   "metadata": {},
   "source": [
    "## Modelo predictivo de Naive Bayes Classifier"
   ]
  },
  {
   "cell_type": "code",
   "execution_count": 11,
   "id": "f2d98434",
   "metadata": {},
   "outputs": [],
   "source": [
    "x = df.iloc[:, 8:10].values\n",
    "y = df.iloc[:, 7].values"
   ]
  },
  {
   "cell_type": "code",
   "execution_count": 22,
   "id": "00cfc1a3",
   "metadata": {},
   "outputs": [],
   "source": [
    "#particion de la data test y train\n",
    "\n",
    "from sklearn.model_selection import train_test_split\n",
    "\n",
    "#particion -> 796 para el test\n",
    "x_train,x_test,y_train,y_test=train_test_split(x,y,test_size=0.2,\n",
    "                                               random_state=100)\n",
    "\n",
    "#creacion de modelo\n",
    "from sklearn.naive_bayes import GaussianNB\n",
    "naive_bayes=GaussianNB()\n",
    "\n",
    "#entrenamiento de modelo\n",
    "naive_bayes.fit(x_train,y_train)\n",
    "\n",
    "#prediccion de modelo\n",
    "y_pred = naive_bayes.predict(x_test)"
   ]
  },
  {
   "cell_type": "code",
   "execution_count": 23,
   "id": "f7898ecf",
   "metadata": {},
   "outputs": [
    {
     "name": "stdout",
     "output_type": "stream",
     "text": [
      "                                  precision    recall  f1-score   support\n",
      "\n",
      "HOMICIDIO CALIFICADO - ASESINATO       0.00      0.00      0.00         3\n",
      "                           HURTO       0.28      0.12      0.17       180\n",
      "                  HURTO AGRAVADO       0.00      0.00      0.00       166\n",
      " MICROCOMERCIALIZACION DE DROGAS       0.00      0.00      0.00         4\n",
      "                            ROBO       0.37      0.10      0.16       145\n",
      "                   ROBO AGRAVADO       0.39      0.88      0.54       299\n",
      "\n",
      "                        accuracy                           0.38       797\n",
      "                       macro avg       0.17      0.18      0.15       797\n",
      "                    weighted avg       0.28      0.38      0.27       797\n",
      "\n"
     ]
    },
    {
     "name": "stderr",
     "output_type": "stream",
     "text": [
      "c:\\Users\\Usuario\\AppData\\Local\\Programs\\Python\\Python310\\lib\\site-packages\\sklearn\\metrics\\_classification.py:1334: UndefinedMetricWarning: Precision and F-score are ill-defined and being set to 0.0 in labels with no predicted samples. Use `zero_division` parameter to control this behavior.\n",
      "  _warn_prf(average, modifier, msg_start, len(result))\n",
      "c:\\Users\\Usuario\\AppData\\Local\\Programs\\Python\\Python310\\lib\\site-packages\\sklearn\\metrics\\_classification.py:1334: UndefinedMetricWarning: Precision and F-score are ill-defined and being set to 0.0 in labels with no predicted samples. Use `zero_division` parameter to control this behavior.\n",
      "  _warn_prf(average, modifier, msg_start, len(result))\n",
      "c:\\Users\\Usuario\\AppData\\Local\\Programs\\Python\\Python310\\lib\\site-packages\\sklearn\\metrics\\_classification.py:1334: UndefinedMetricWarning: Precision and F-score are ill-defined and being set to 0.0 in labels with no predicted samples. Use `zero_division` parameter to control this behavior.\n",
      "  _warn_prf(average, modifier, msg_start, len(result))\n"
     ]
    }
   ],
   "source": [
    "#modelo predictivo\n",
    "y_pred = naive_bayes.predict(x_test)\n",
    "from sklearn.metrics import confusion_matrix\n",
    "cm = confusion_matrix(y_test, y_pred)\n",
    "\n",
    "print(metrics.classification_report(y_test,y_pred))\n",
    "#ver metrica\n",
    "#print(\"R2 es \",round(metrics.r2_score(y_test, y_pred),2))"
   ]
  },
  {
   "cell_type": "markdown",
   "id": "820c4512",
   "metadata": {},
   "source": [
    "#particion de la data test y train\n",
    "from sklearn.model_selection import train_test_split\n",
    "x_train,x_test,y_train,y_test=train_test_split(x,y,test_size=0.2,\n",
    "                                               random_state=100)\n",
    "\n",
    "#estandar de escalas\n",
    "from sklearn.preprocessing import StandardScaler\n",
    "sc = StandardScaler()\n",
    "x_train = sc.fit_transform(x_train)\n",
    "x_test = sc.transform(x_test)\n",
    "\n",
    "#creacion del modelo\n",
    "from sklearn.naive_bayes import GaussianNB\n",
    "classifier = GaussianNB()\n",
    "\n",
    "classifier.fit(x_train, y_test)\n",
    "\n",
    "y_pred = classifier.predict(x_test)\n",
    "\n",
    "from sklearn.metrics import confusion_matrix\n",
    "cm = confusion_matrix(y_test, y_pred)"
   ]
  },
  {
   "cell_type": "markdown",
   "id": "0d3cfe10-7436-4eb5-a250-2a72c1ce0036",
   "metadata": {},
   "source": [
    "## Modelo predictivo de --"
   ]
  },
  {
   "cell_type": "code",
   "execution_count": null,
   "id": "bb53a510-b3c6-4719-99ed-8e328b522f66",
   "metadata": {},
   "outputs": [],
   "source": []
  },
  {
   "cell_type": "code",
   "execution_count": null,
   "id": "3d892e08-a1f2-4686-a1a8-ff1111a645e3",
   "metadata": {},
   "outputs": [],
   "source": []
  }
 ],
 "metadata": {
  "kernelspec": {
   "display_name": "Python 3.10.4 64-bit",
   "language": "python",
   "name": "python3"
  },
  "language_info": {
   "codemirror_mode": {
    "name": "ipython",
    "version": 3
   },
   "file_extension": ".py",
   "mimetype": "text/x-python",
   "name": "python",
   "nbconvert_exporter": "python",
   "pygments_lexer": "ipython3",
   "version": "3.10.4"
  },
  "vscode": {
   "interpreter": {
    "hash": "c63d8c7d738c2960218a10995aedf0a7f67a49a231e71037adf0440953cdb45b"
   }
  }
 },
 "nbformat": 4,
 "nbformat_minor": 5
}
